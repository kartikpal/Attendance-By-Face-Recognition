{
 "cells": [
  {
   "cell_type": "code",
   "execution_count": 1,
   "id": "8089b2e0-83fd-4ca8-9c30-011e4e1b8cfb",
   "metadata": {
    "tags": []
   },
   "outputs": [
    {
     "name": "stderr",
     "output_type": "stream",
     "text": [
      "Exception in Tkinter callback\n",
      "Traceback (most recent call last):\n",
      "  File \"C:\\Program Files\\Python311\\Lib\\tkinter\\__init__.py\", line 1948, in __call__\n",
      "    return self.func(*args)\n",
      "           ^^^^^^^^^^^^^^^^\n",
      "  File \"C:\\Users\\pal28\\AppData\\Local\\Temp\\ipykernel_24268\\3769066495.py\", line 60, in train_classifier\n",
      "    clf = cv2.face.LBPHFaceRecognizer_create()\n",
      "          ^^^^^^^^\n",
      "AttributeError: module 'cv2' has no attribute 'face'\n"
     ]
    }
   ],
   "source": [
    "from tkinter import *\n",
    "import tkinter as tk\n",
    "from tkinter import ttk\n",
    "from PIL import Image, ImageTk\n",
    "from tkinter import messagebox\n",
    "import mysql.connector\n",
    "import cv2\n",
    "import os\n",
    "import numpy as np\n",
    "\n",
    "\n",
    "class Train:\n",
    "    def __init__(self,root):\n",
    "        self.root = root\n",
    "        self.root.geometry(\"1530x790+0+0\")\n",
    "        self.root.title(\"Face Recognition System\")\n",
    "        self.root.resizable(False,False)\n",
    "\n",
    "        title_lbl = Label(self.root, text=\"TRAIN DATA\", font=(\"times new roman\", 35, \"bold\"), bg=\"white\", fg=\"red\")\n",
    "        title_lbl.place(x=0, y=0, width=1600, height=45)\n",
    "\n",
    "        img_top = Image.open(\"train_data.png\")\n",
    "        self.photoimg_top = ImageTk.PhotoImage(img_top)\n",
    "\n",
    "        f_lbl = Label(self.root, image=self.photoimg_top)\n",
    "        f_lbl.place(x=0, y=40, width=1530, height=360)\n",
    "\n",
    "        f_lbl1 = Label(self.root)\n",
    "        f_lbl1.place(x=0, y=300, width=1530, height=100)\n",
    "\n",
    "        b2 = Button(f_lbl1,text=\"TRAIN DATA\",command=self.train_classifier, cursor=\"hand2\", font=(\"times new roman\",20 , \"bold\"),bg=\"blue\",fg=\"white\")\n",
    "\n",
    "        b2.pack (side=tk.LEFT, fill=tk.BOTH, expand=True)\n",
    "\n",
    "\n",
    "        img_bottom = Image.open(\"20.png\")\n",
    "        self.photoimg_bottom = ImageTk.PhotoImage(img_bottom)\n",
    "        f_lbl = Label(self.root, image = self.photoimg_bottom)\n",
    "        f_lbl.place(x=0, y=400, width=1530, height=450)\n",
    "\n",
    "    def train_classifier(self):\n",
    "        data_dir = (\"data\")\n",
    "        path=[os.path.join(data_dir , file) for file in os.listdir(data_dir)]\n",
    "\n",
    "        faces=[]\n",
    "        ids=[]\n",
    "        for image in path:\n",
    "            img = Image.open(image).convert('L') # Gray scale image\n",
    "            imageNp=np.array(img, 'uint8')\n",
    "            id = int(os.path.split(image)[1].split(\".\")[1])\n",
    "\n",
    "            faces.append(imageNp)\n",
    "\n",
    "            ids.append(id)\n",
    "            cv2.imshow(\"Training\", imageNp)\n",
    "            cv2.waitKey(1) == 13\n",
    "        ids = np.array(ids)\n",
    "        #=====Train the classifier=====#\n",
    "\n",
    "        clf = cv2.face.LBPHFaceRecognizer_create()\n",
    "\n",
    "\n",
    "        clf.train(faces,ids)\n",
    "        clf.write(\"classifier.xml\")\n",
    "        cv2.destroyAllWindows()\n",
    "        messagebox.showinfo(\"Result\",\"Training datasets completed\")\n",
    "\n",
    "if __name__ == \"__main__\":\n",
    "    root = Tk()\n",
    "    obj = Train(root)\n",
    "    root.mainloop()"
   ]
  }
 ],
 "metadata": {
  "kernelspec": {
   "display_name": "Python 3 (ipykernel)",
   "language": "python",
   "name": "python3"
  },
  "language_info": {
   "codemirror_mode": {
    "name": "ipython",
    "version": 3
   },
   "file_extension": ".py",
   "mimetype": "text/x-python",
   "name": "python",
   "nbconvert_exporter": "python",
   "pygments_lexer": "ipython3",
   "version": "3.11.2"
  }
 },
 "nbformat": 4,
 "nbformat_minor": 5
}
