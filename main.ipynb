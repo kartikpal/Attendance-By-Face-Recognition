{
 "cells": [
  {
   "cell_type": "code",
   "execution_count": 2,
   "id": "92db894b-efc8-42e4-a774-235b19121269",
   "metadata": {
    "tags": []
   },
   "outputs": [
    {
     "name": "stderr",
     "output_type": "stream",
     "text": [
      "C:\\Users\\pal28\\AppData\\Local\\Temp\\ipykernel_4508\\3867550525.py:29: DeprecationWarning: ANTIALIAS is deprecated and will be removed in Pillow 10 (2023-07-01). Use LANCZOS or Resampling.LANCZOS instead.\n",
      "  img2 = img2.resize((1550, 710), Image.ANTIALIAS)\n"
     ]
    }
   ],
   "source": [
    "from tkinter import *\n",
    "import tkinter as tk\n",
    "from tkinter import ttk\n",
    "from PIL import Image, ImageTk\n",
    "import import_ipynb\n",
    "from student import Student\n",
    "from TRAIN_DATA import Train\n",
    "from face_recognition import face_recognition\n",
    "\n",
    "\n",
    "\n",
    "class Face_Recognition_System:\n",
    "    def __init__(self, root):\n",
    "        self.root = root\n",
    "        self.root.geometry(\"1500x790+0+0\")\n",
    "        self.root.title(\"Face Recognition System\")\n",
    "        self.root.resizable(False, False)\n",
    "\n",
    "        img = Image.open(\"2.png\")\n",
    "\n",
    "        self.photoimg = ImageTk.PhotoImage(img)\n",
    "        # makes the variable an instance variable and it will not be garbage collected.\n",
    "\n",
    "        f_lbl = Label(self.root, image=self.photoimg)\n",
    "        f_lbl.place(x=0, y=0, width=1500, height=130)\n",
    "\n",
    "        # bg image\n",
    "        img2 = Image.open(\"3.png\")\n",
    "        img2 = img2.resize((1550, 710), Image.ANTIALIAS)\n",
    "        self.photoimg2 = ImageTk.PhotoImage(img2)\n",
    "        # makes the variable an instance variable and it will not be garbage collected.\n",
    "\n",
    "        bg_img = Label(self.root, image=self.photoimg2)\n",
    "        bg_img.place(x=0, y=130, width=1550, height=750)\n",
    "\n",
    "        # title\n",
    "        title_lbl = Label(bg_img, text=\"FACE RECOGNITION ATTENDANCE SYSTEM\", font=(\"times new roman\", 35, \"bold\"),\n",
    "                          bg=\"white\", fg=\"red\")\n",
    "        title_lbl.place(x=0, y=0, width=1600, height=45)\n",
    "\n",
    "        # student button\n",
    "        img4 = Image.open(\"4.png\")\n",
    "        self.photoimg4 = ImageTk.PhotoImage(image=img4)\n",
    "\n",
    "        b1 = Button(bg_img, image=self.photoimg4, cursor=\"hand2\", command=self.student_details)\n",
    "        b1.place(x=200, y=100, width=220, height=220)\n",
    "\n",
    "        b2 = Button(bg_img, text=\"Student Details\", cursor=\"hand2\", font=(\"times new roman\", 15, \"bold\"),\n",
    "                    command=self.student_details)\n",
    "        b2.place(x=200, y=300, width=220, height=40)\n",
    "\n",
    "        # detect face button\n",
    "\n",
    "        img5 = Image.open(\"5.png\")\n",
    "        self.photoimg5 = ImageTk.PhotoImage(image=img5)\n",
    "\n",
    "        b3 = Button(bg_img, image=self.photoimg5, cursor=\"hand2\",command=self.face_data)\n",
    "        b3.place(x=650, y=100, width=220, height=220)\n",
    "\n",
    "        b4 = Button(bg_img, text=\"Face Detection\", cursor=\"hand2\", font=(\"times new roman\", 15, \"bold\"),command=self.face_data)\n",
    "        b4.place(x=650, y=300, width=220, height=40)\n",
    "\n",
    "     \n",
    "        # train data\n",
    "\n",
    "        img7 = Image.open(\"7.png\")\n",
    "        self.photoimg7 = ImageTk.PhotoImage(img7)\n",
    "\n",
    "        b7 = Button(bg_img, image=self.photoimg7, cursor=\"hand2\",command=self.train_data)\n",
    "        b7.place(x=1100, y=100, width=220, height=220)\n",
    "\n",
    "        b8 = Button(bg_img, text=\"Train Data\", cursor=\"hand2\", font=(\"times new roman\", 15, \"bold\"),command=self.train_data)\n",
    "        b8.place(x=1100, y=300, width=220, height=40)\n",
    "\n",
    "      \n",
    "        # Exit\n",
    "        img9 = Image.open(\"10.png\")\n",
    "        self.photoimg9 = ImageTk.PhotoImage(img9)\n",
    "\n",
    "        b9 = Button(bg_img, image=self.photoimg9, cursor=\"hand2\",command=self.Exit)\n",
    "        b9.place(x=650, y=380, width=220, height=220)\n",
    "\n",
    "        b10 = Button(bg_img, text=\"Exit\", cursor=\"hand2\", font=(\"times new roman\", 15, \"bold\"),command=self.Exit)\n",
    "        b10.place(x=650, y=580, width=220, height=40)\n",
    "\n",
    "        # ========function========\n",
    "\n",
    "    def student_details(self):\n",
    "        self.new_window = Toplevel(self.root)\n",
    "        self.app = Student(self.new_window)\n",
    "    def train_data(self):\n",
    "        self.new_window=Toplevel(self.root)\n",
    "        self.app=Train(self. new_window)\n",
    "\n",
    "    def face_data(self):\n",
    "        self.new_window=Toplevel(self.root)\n",
    "        self.app=face_recognition(self. new_window)\n",
    "        \n",
    "    def attendance_data(self):\n",
    "        self.new_window=Toplevel(self.root)\n",
    "        self.app=Attendance(self. new_window)\n",
    "    \n",
    "    def Exit(self):\n",
    "        self.Exit=tk.messagebox.askyesno(\"Face Recognition\",\"Are you sure you want to exit ?\",parent=self.root)\n",
    "        if self.Exit>0:\n",
    "            self.root.destroy()\n",
    "        else:\n",
    "            return\n",
    "\n",
    "\n",
    "        \n",
    "if __name__ == \"__main__\":\n",
    "    root = Tk()\n",
    "    obj = Face_Recognition_System(root)\n",
    "    root.mainloop()"
   ]
  },
  {
   "cell_type": "code",
   "execution_count": 3,
   "id": "a1a89708-01a2-45fa-bd63-739be6c5abbb",
   "metadata": {
    "tags": []
   },
   "outputs": [
    {
     "name": "stdout",
     "output_type": "stream",
     "text": [
      "Defaulting to user installation because normal site-packages is not writeable\n",
      "Requirement already satisfied: opencv-python in c:\\users\\pal28\\appdata\\roaming\\python\\python311\\site-packages (4.7.0.72)\n",
      "Requirement already satisfied: numpy>=1.21.2 in c:\\users\\pal28\\appdata\\roaming\\python\\python311\\site-packages (from opencv-python) (1.24.2)\n",
      "Note: you may need to restart the kernel to use updated packages.\n"
     ]
    }
   ],
   "source": [
    "pip install opencv-python"
   ]
  }
 ],
 "metadata": {
  "kernelspec": {
   "display_name": "Python 3 (ipykernel)",
   "language": "python",
   "name": "python3"
  },
  "language_info": {
   "codemirror_mode": {
    "name": "ipython",
    "version": 3
   },
   "file_extension": ".py",
   "mimetype": "text/x-python",
   "name": "python",
   "nbconvert_exporter": "python",
   "pygments_lexer": "ipython3",
   "version": "3.11.2"
  }
 },
 "nbformat": 4,
 "nbformat_minor": 5
}
